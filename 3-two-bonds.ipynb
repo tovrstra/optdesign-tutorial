{
 "cells": [
  {
   "cell_type": "code",
   "execution_count": null,
   "id": "2236a6e9",
   "metadata": {},
   "outputs": [],
   "source": [
    "import numpy as np\n",
    "import matplotlib.pyplot as plt\n",
    "\n",
    "from optdesign import *"
   ]
  },
  {
   "cell_type": "markdown",
   "id": "c1270700",
   "metadata": {},
   "source": [
    "# Two bond lengths"
   ]
  },
  {
   "cell_type": "code",
   "execution_count": null,
   "id": "a83259ad",
   "metadata": {},
   "outputs": [],
   "source": [
    "# Normally distributed O-H bond lengths in a water molecule\n",
    "npt = 1000\n",
    "dmean = 0.9584\n",
    "dsigma = 0.3\n",
    "\n",
    "def plot_points(build_design_matrix):\n",
    "    fig, ax = plt.subplots(dpi=100)\n",
    "    for _ in range(1):\n",
    "        ds = np.random.normal(dmean, dsigma, (npt, 2))\n",
    "        design_matrix = build_design_matrix(ds)\n",
    "        irows = opt_maxvol(design_matrix)[:design_matrix.shape[1]]\n",
    "        ax.plot(ds[:, 0], ds[:, 1], \"ko\", alpha=0.05, zorder=0.5)\n",
    "        ax.plot(ds[irows, 0], ds[irows, 1], \"ro\")\n",
    "    ax.set_title(f\"Distribution of {len(irows)} selected bond lengths\")\n",
    "    ax.set_xlabel(\"Bond length 1\")\n",
    "    ax.set_ylabel(\"Bond length 2\")\n",
    "    ax.set_aspect(\"equal\")\n",
    "    fig.tight_layout()\n",
    "    plt.show(fig)"
   ]
  },
  {
   "cell_type": "markdown",
   "id": "c1c5d6c3",
   "metadata": {},
   "source": [
    "### Harmonic potential"
   ]
  },
  {
   "cell_type": "code",
   "execution_count": null,
   "id": "89a15c0c",
   "metadata": {},
   "outputs": [],
   "source": [
    "def build_design_matrix(ds):\n",
    "    x0 = (ds[:, 0] - dmean) / dsigma\n",
    "    x1 = (ds[:, 1] - dmean) / dsigma\n",
    "    ones = np.ones(len(ds))\n",
    "    return np.array([ones, x0, x1, 0.5*x0**2, 0.5*x1**2]).T\n",
    "\n",
    "plot_points(build_design_matrix)"
   ]
  },
  {
   "cell_type": "markdown",
   "id": "bfb2172b",
   "metadata": {},
   "source": [
    "### Haromic potential with cross term"
   ]
  },
  {
   "cell_type": "code",
   "execution_count": null,
   "id": "e9c64054",
   "metadata": {},
   "outputs": [],
   "source": [
    "def build_design_matrix(ds):\n",
    "    x0 = (ds[:, 0] - dmean) / dsigma\n",
    "    x1 = (ds[:, 1] - dmean) / dsigma\n",
    "    ones = np.ones(len(ds))\n",
    "    return np.array([ones, x0, x1, 0.5*x0**2, 0.5*x1**2, x0*x1]).T\n",
    "\n",
    "plot_points(build_design_matrix)"
   ]
  },
  {
   "cell_type": "markdown",
   "id": "aad80bdf",
   "metadata": {},
   "source": [
    "### Basis of uncoupled probabilist's Hermite polynomials"
   ]
  },
  {
   "cell_type": "code",
   "execution_count": null,
   "id": "66d93efb",
   "metadata": {},
   "outputs": [],
   "source": [
    "def build_design_matrix(ds):\n",
    "    x0 = (ds[:, 0] - dmean) / dsigma\n",
    "    x1 = (ds[:, 1] - dmean) / dsigma\n",
    "    maxorder = 4\n",
    "    polys = [np.polynomial.hermite_e.HermiteE.basis(order) for order in range(maxorder + 1)]\n",
    "    cols = []\n",
    "    for order, poly in enumerate(polys):\n",
    "        cols.append(poly(x0))\n",
    "        if order > 0:\n",
    "            cols.append(poly(x1))\n",
    "    return np.array(cols).T\n",
    "\n",
    "plot_points(build_design_matrix)"
   ]
  },
  {
   "cell_type": "markdown",
   "id": "2bfbb7d8",
   "metadata": {},
   "source": [
    "### Basis of coupled probabilist's Hermite polynomials"
   ]
  },
  {
   "cell_type": "code",
   "execution_count": null,
   "id": "126b6fd6",
   "metadata": {},
   "outputs": [],
   "source": [
    "def build_design_matrix(ds):\n",
    "    x0 = (ds[:, 0] - dmean) / dsigma\n",
    "    x1 = (ds[:, 1] - dmean) / dsigma\n",
    "    maxorder = 4\n",
    "    polys = [np.polynomial.hermite_e.HermiteE.basis(order) for order in range(maxorder + 1)]\n",
    "    cols = []\n",
    "    for order0, poly0 in enumerate(polys):\n",
    "        for order1, poly1 in enumerate(polys):\n",
    "            if order0 + order1 <= maxorder:\n",
    "                cols.append(poly0(x0) * poly1(x1))\n",
    "    return np.array(cols).T\n",
    "\n",
    "plot_points(build_design_matrix)"
   ]
  }
 ],
 "metadata": {
  "kernelspec": {
   "display_name": "Python 3",
   "language": "python",
   "name": "python3"
  },
  "language_info": {
   "codemirror_mode": {
    "name": "ipython",
    "version": 3
   },
   "file_extension": ".py",
   "mimetype": "text/x-python",
   "name": "python",
   "nbconvert_exporter": "python",
   "pygments_lexer": "ipython3",
   "version": "3.7.10"
  }
 },
 "nbformat": 4,
 "nbformat_minor": 5
}
