{
 "cells": [
  {
   "cell_type": "code",
   "execution_count": null,
   "metadata": {},
   "outputs": [],
   "source": [
    "import numpy as np\n",
    "import matplotlib.pyplot as plt\n",
    "\n",
    "from optdesign import *"
   ]
  },
  {
   "cell_type": "markdown",
   "metadata": {},
   "source": [
    "# Three Gaussians"
   ]
  },
  {
   "cell_type": "code",
   "execution_count": null,
   "metadata": {},
   "outputs": [],
   "source": [
    "config = np.array([[0.1, 0.2], [0.2, 0.1], [0.6, 0.5]])\n",
    "npar = len(config)\n",
    "\n",
    "def compute_basis(xs):\n",
    "    return np.array([\n",
    "        np.exp(-0.5 * ((xs - mu) / width)**2)\n",
    "        for mu, width in config\n",
    "    ])\n",
    "\n",
    "npt = 100\n",
    "sigma = 0.01\n",
    "pars0 = np.array([0.3, 0.5, 0.1])\n",
    "xs = np.random.uniform(0, 1, npt)\n",
    "basisfns = compute_basis(xs)\n",
    "design_matrix = basisfns.T / sigma\n",
    "expected_values = (\n",
    "    np.dot(basisfns.T, pars0)\n",
    "    + np.random.normal(0, sigma, npt)\n",
    ") / sigma\n",
    "\n",
    "def linear_regression(irows=None):\n",
    "    if irows is None:\n",
    "        irows = range(npt)\n",
    "    U, s, Vt = np.linalg.svd(design_matrix[irows], full_matrices=False)\n",
    "    pars = np.dot(Vt.T, np.dot(U.T, expected_values[irows]) / s)\n",
    "    sigma_evs = 1 / s\n",
    "    sigma_pars = np.sqrt(np.einsum(\"ji,j,ji->i\", Vt, 1/s**2, Vt))\n",
    "    settings = {\"precision\": 3, \"suppress_small\": True, \"separator\": \"  \"}\n",
    "    print(\"pars      \", np.array2string(pars, **settings))\n",
    "    print(\"sigma_evs \", np.array2string(sigma_evs, **settings))\n",
    "    print(\"sigma_pars\", np.array2string(sigma_pars, **settings))\n",
    "    return pars\n",
    "\n",
    "def plot_gauss(pars=None, irows=None):\n",
    "    xgrid = np.linspace(0, 1, npt)\n",
    "    fig, ax = plt.subplots(dpi=100)\n",
    "    basisfns_grid = compute_basis(xgrid)\n",
    "    for ib, bgrid in enumerate(basisfns_grid):\n",
    "        ax.plot(xgrid, bgrid, ls=\":\", label=f\"basis-{ib}\", color=\"gray\")\n",
    "    ax.plot(xs, expected_values * sigma, marker=\"o\", color=\"#BBBBBB\", ls=\"None\")\n",
    "    if irows is not None:\n",
    "        ax.plot(xs[irows], expected_values[irows] * sigma, \"k+\")\n",
    "        ax.set_title(f\"{len(irows)} points selected\")\n",
    "    else:\n",
    "        ax.set_title(\"No points selected\")\n",
    "    ax.plot(xgrid, np.dot(pars0, basisfns_grid), label=\"exact\")\n",
    "    if pars is not None:\n",
    "        ax.plot(xgrid, np.dot(pars, basisfns_grid), label=\"fit\")\n",
    "    ax.legend(loc=0)\n",
    "    fig.tight_layout()\n",
    "    plt.show(fig)\n",
    "    plt.close(fig)\n",
    "\n",
    "plot_gauss()"
   ]
  },
  {
   "cell_type": "markdown",
   "metadata": {},
   "source": [
    "### Using all points"
   ]
  },
  {
   "cell_type": "code",
   "execution_count": null,
   "metadata": {},
   "outputs": [],
   "source": [
    "pars = linear_regression()\n",
    "plot_gauss(pars, range(npt))"
   ]
  },
  {
   "cell_type": "markdown",
   "metadata": {},
   "source": [
    "### Random setup"
   ]
  },
  {
   "cell_type": "code",
   "execution_count": null,
   "metadata": {},
   "outputs": [],
   "source": [
    "irows = setup_random(design_matrix)[:npar]\n",
    "pars = linear_regression(irows)\n",
    "plot_gauss(pars, irows)"
   ]
  },
  {
   "cell_type": "markdown",
   "metadata": {},
   "source": [
    "### Greedy setup"
   ]
  },
  {
   "cell_type": "code",
   "execution_count": null,
   "metadata": {},
   "outputs": [],
   "source": [
    "irows = setup_greedy(design_matrix)[:npar]\n",
    "pars = linear_regression(irows)\n",
    "plot_gauss(pars, irows)"
   ]
  },
  {
   "cell_type": "markdown",
   "metadata": {},
   "source": [
    "### Maximum Volume selection"
   ]
  },
  {
   "cell_type": "code",
   "execution_count": null,
   "metadata": {},
   "outputs": [],
   "source": [
    "irows = opt_maxvol(design_matrix)[:npar]\n",
    "pars = linear_regression(irows)\n",
    "plot_gauss(pars, irows)"
   ]
  },
  {
   "cell_type": "markdown",
   "metadata": {},
   "source": [
    "### D-metric selection"
   ]
  },
  {
   "cell_type": "code",
   "execution_count": null,
   "metadata": {},
   "outputs": [],
   "source": [
    "nrow = 9\n",
    "irows = opt_dmetric(design_matrix, nrow)[:nrow]\n",
    "pars = linear_regression(irows)\n",
    "plot_gauss(pars, irows)"
   ]
  },
  {
   "cell_type": "code",
   "execution_count": null,
   "metadata": {},
   "outputs": [],
   "source": []
  }
 ],
 "metadata": {
  "kernelspec": {
   "display_name": "Python 3",
   "language": "python",
   "name": "python3"
  },
  "language_info": {
   "codemirror_mode": {
    "name": "ipython",
    "version": 3
   },
   "file_extension": ".py",
   "mimetype": "text/x-python",
   "name": "python",
   "nbconvert_exporter": "python",
   "pygments_lexer": "ipython3",
   "version": "3.7.10"
  }
 },
 "nbformat": 4,
 "nbformat_minor": 4
}
